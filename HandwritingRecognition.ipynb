{
  "nbformat": 4,
  "nbformat_minor": 0,
  "metadata": {
    "colab": {
      "provenance": [],
      "authorship_tag": "ABX9TyP4oCC2mWRrZXD/5ppLrB+D",
      "include_colab_link": true
    },
    "kernelspec": {
      "name": "python3",
      "display_name": "Python 3"
    },
    "language_info": {
      "name": "python"
    }
  },
  "cells": [
    {
      "cell_type": "markdown",
      "metadata": {
        "id": "view-in-github",
        "colab_type": "text"
      },
      "source": [
        "<a href=\"https://colab.research.google.com/github/sanjanabhakat26/DeepLearning_Sanjana/blob/main/HandwritingRecognition.ipynb\" target=\"_parent\"><img src=\"https://colab.research.google.com/assets/colab-badge.svg\" alt=\"Open In Colab\"/></a>"
      ]
    },
    {
      "cell_type": "markdown",
      "source": [
        "# Project on building a Handwriting Recognition Model using MNIST Dataset\n",
        "\n",
        "\n",
        "This is a basic project showing how to build a handwriting recognition model using tensorflow library in Python. It also explains the work of each cell in the code.  "
      ],
      "metadata": {
        "id": "suhyllLALLMG"
      }
    },
    {
      "cell_type": "markdown",
      "source": [
        "First of all, we import all the necessary libraries."
      ],
      "metadata": {
        "id": "2rfeayw5LuXU"
      }
    },
    {
      "cell_type": "code",
      "execution_count": 2,
      "metadata": {
        "id": "4lYL8F6Kgjca"
      },
      "outputs": [],
      "source": [
        "import numpy as np\n",
        "import tensorflow as tf\n",
        "import matplotlib.pyplot as plt\n",
        "from sklearn.metrics import confusion_matrix"
      ]
    },
    {
      "cell_type": "markdown",
      "source": [
        "Next, we load the MNIST dataset from the Keras module in tensorflow. The dataset consists of 70,000 images labelled with the true outputs."
      ],
      "metadata": {
        "id": "RD2gwIZtL3z9"
      }
    },
    {
      "cell_type": "code",
      "source": [
        "mnist_data=tf.keras.datasets.mnist\n",
        "(x_train,y_train),(x_test,y_test)=mnist_data.load_data()"
      ],
      "metadata": {
        "id": "pucYBtEnhLeJ",
        "colab": {
          "base_uri": "https://localhost:8080/"
        },
        "outputId": "0d9b91fc-c526-4187-eff6-a9d5eb0c7327"
      },
      "execution_count": 3,
      "outputs": [
        {
          "output_type": "stream",
          "name": "stdout",
          "text": [
            "Downloading data from https://storage.googleapis.com/tensorflow/tf-keras-datasets/mnist.npz\n",
            "11490434/11490434 [==============================] - 0s 0us/step\n"
          ]
        }
      ]
    },
    {
      "cell_type": "markdown",
      "source": [
        "Next, we check the shape of our training and test data. The training set contains 60,000 samples and the testing set contains 10,000 samples. Shape of x_train is (60000, 28, 28) which means that the training data has 60,000 images of width 28 pixels and height of 28 pixels."
      ],
      "metadata": {
        "id": "z5slZodkVftx"
      }
    },
    {
      "cell_type": "code",
      "source": [
        "print(x_train.shape)\n",
        "print(y_train.shape)\n",
        "print(x_test.shape)\n",
        "print(y_test.shape)"
      ],
      "metadata": {
        "colab": {
          "base_uri": "https://localhost:8080/"
        },
        "id": "kHe53O7FMHzc",
        "outputId": "16c4d9a6-3d4f-493e-93b5-3a10d09e855e"
      },
      "execution_count": 4,
      "outputs": [
        {
          "output_type": "stream",
          "name": "stdout",
          "text": [
            "(60000, 28, 28)\n",
            "(60000,)\n",
            "(10000, 28, 28)\n",
            "(10000,)\n"
          ]
        }
      ]
    },
    {
      "cell_type": "markdown",
      "source": [
        "We now divide the inputs of training data and testing data i.e images by 255 which changes their range to 0 to 1 i.e standardizes them to have zero mean and unit variance. This step is beneficial as it improves model convergence and the gradient flow, enhances numerical stability, improves model performance and also acts as a regularization parameter to prevent overfitting."
      ],
      "metadata": {
        "id": "7R3h-8CsXX-7"
      }
    },
    {
      "cell_type": "code",
      "source": [
        "x_train,x_test=x_train/255.0,x_test/255.0"
      ],
      "metadata": {
        "id": "UJUSPC08iGoB"
      },
      "execution_count": 5,
      "outputs": []
    },
    {
      "cell_type": "markdown",
      "source": [
        "Next, let's check the output array of our test dataset. This array consists of the true labels of the test dataset."
      ],
      "metadata": {
        "id": "cIzYwNkqTT4U"
      }
    },
    {
      "cell_type": "code",
      "source": [
        "y_test"
      ],
      "metadata": {
        "colab": {
          "base_uri": "https://localhost:8080/"
        },
        "id": "6w624JT-ikM3",
        "outputId": "4bd26599-eb4c-4d87-86af-508f568be85e"
      },
      "execution_count": 6,
      "outputs": [
        {
          "output_type": "execute_result",
          "data": {
            "text/plain": [
              "array([7, 2, 1, ..., 4, 5, 6], dtype=uint8)"
            ]
          },
          "metadata": {},
          "execution_count": 6
        }
      ]
    },
    {
      "cell_type": "markdown",
      "source": [
        "As an optional way to understand the data more, we transform the test dataset's output labels to one-hot encoded vectors i.e categorical data which means the index of 1 in the vector is the true label. That is,\n",
        "for example : [0,0,1,0,0,0,0,0,0,0] : here 1 is present at index 3 and hence, the label is 3."
      ],
      "metadata": {
        "id": "gQaweAQCUSUw"
      }
    },
    {
      "cell_type": "code",
      "source": [
        "num_classes=10\n",
        "y_test_encoded=tf.keras.utils.to_categorical(y_test,num_classes)\n",
        "y_test_encoded"
      ],
      "metadata": {
        "colab": {
          "base_uri": "https://localhost:8080/"
        },
        "id": "tCuhtfZijCK6",
        "outputId": "a02ee7a8-a0af-4c1d-8755-f054d00a2d5e"
      },
      "execution_count": 7,
      "outputs": [
        {
          "output_type": "execute_result",
          "data": {
            "text/plain": [
              "array([[0., 0., 0., ..., 1., 0., 0.],\n",
              "       [0., 0., 1., ..., 0., 0., 0.],\n",
              "       [0., 1., 0., ..., 0., 0., 0.],\n",
              "       ...,\n",
              "       [0., 0., 0., ..., 0., 0., 0.],\n",
              "       [0., 0., 0., ..., 0., 0., 0.],\n",
              "       [0., 0., 0., ..., 0., 0., 0.]], dtype=float32)"
            ]
          },
          "metadata": {},
          "execution_count": 7
        }
      ]
    },
    {
      "cell_type": "markdown",
      "source": [
        "Now, we define a function to plot 9 images from the dataset in a (3,3 grid). We adjust the spaces between each subplot to leave some margin, reshape the images, and also remove the ticks i.e the numbered axes. The function also shows the true labels with the subplots with an additional parameter of predicted labels which can be compared with the true ones once the model is trained."
      ],
      "metadata": {
        "id": "yn6XYgKgVZL0"
      }
    },
    {
      "cell_type": "code",
      "source": [
        "def plot_images(images,cls_true,cls_pred=None):\n",
        "     assert len (images)==len(cls_true)==9\n",
        "     fig,axes=plt.subplots(3,3)\n",
        "     fig.subplots_adjust(hspace=0.3,wspace=0.3)\n",
        "     for i,ax in enumerate(axes.flat):\n",
        "       ax.imshow(images[i].reshape(28,28),cmap='binary')\n",
        "       if cls_pred is None:\n",
        "        xlabel=\"True:{0}\".format(cls_true[i])\n",
        "       else:\n",
        "        xlabel=\"True:{0},Pred:{1}\".format(cls_true[i],cls_pred[i])\n",
        "       ax.set_xlabel(xlabel)\n",
        "       ax.set_xticks([])\n",
        "       ax.set_yticks([])\n",
        "     plt.show()"
      ],
      "metadata": {
        "id": "BvQOlDvKkQzw"
      },
      "execution_count": 8,
      "outputs": []
    },
    {
      "cell_type": "markdown",
      "source": [
        "Next, we call the function and plot the first 9 images from the test dataset."
      ],
      "metadata": {
        "id": "9VHrcRcVZFc-"
      }
    },
    {
      "cell_type": "code",
      "source": [
        "images=x_test[0:9]\n",
        "cls_true=y_test[0:9]\n",
        "plot_images(images=images,cls_true=cls_true)"
      ],
      "metadata": {
        "colab": {
          "base_uri": "https://localhost:8080/",
          "height": 426
        },
        "id": "uznZ2YiIngsL",
        "outputId": "acedacec-793e-4a23-b702-24ee590c5a13"
      },
      "execution_count": 9,
      "outputs": [
        {
          "output_type": "display_data",
          "data": {
            "text/plain": [
              "<Figure size 640x480 with 9 Axes>"
            ],
            "image/png": "[encoded data removed]"
          },
          "metadata": {}
        }
      ]
    },
    {
      "cell_type": "markdown",
      "source": [
        " Next, we add an extra dimension to the training dataset to make the shape of the images suitable to the expected shape of CNN models i.e [batch_size,height,width, dimension]. In image data, this indicates the number of channels. Here, 1 indicates the dimension of the image i.e the image is in grayscale. For a colourful image the dimension is 3 as it contains Red, Green, Blue (RGB) layers."
      ],
      "metadata": {
        "id": "tnTkd3DubbFL"
      }
    },
    {
      "cell_type": "code",
      "source": [
        "x_train=x_train[...,tf.newaxis]\n",
        "x_test=x_test[...,tf.newaxis]"
      ],
      "metadata": {
        "id": "ZoErPNPmpCcO"
      },
      "execution_count": 10,
      "outputs": []
    },
    {
      "cell_type": "markdown",
      "source": [
        "The next step is to build and train our CNN model. We use the Keras module of Tensorflow to achieve this. We build a Sequential model which means that the output of previous layer is the input for the next layer in a linear stack like architecture. We perform a 2D convolution on the data of input shape as given and the layer has 32 filters each of size (3,3). We use the ReLU activation function here.\n",
        "\n",
        "> The 2D MaxPooling allows to reduce the spatial dimensions of the input by taking maximmum value from each pooling window. This helps reduce the size of the features while preserving the most important information.\n",
        "\n",
        "> Adding a flatten layer to the model transforms multidimensional input to a 1D vector from the previously built 2D layer. This 1D vector serves as the input to a dense connected neural network layer.\n",
        "\n",
        "> Next, we add a fully connected dense layer to the model. Here 64 indicates the number of individual neurons whose output are put in to the ReLU activation function.\n",
        "\n",
        "> Lastly, we add another fully connected dense layer of 10 neurons which resemble the output.\n",
        "\n",
        "In this way, we build the CNN model which is to be trained on the training data after compiling.\n",
        "\n",
        "\n",
        "\n",
        "\n",
        "\n",
        "\n",
        "\n",
        "\n"
      ],
      "metadata": {
        "id": "C1yB4UdMlBZN"
      }
    },
    {
      "cell_type": "code",
      "source": [
        "model=tf.keras.Sequential([tf.keras.layers.Conv2D(32,3,activation='relu',input_shape=(28,28,1)),\n",
        "                           tf.keras.layers.MaxPooling2D(),\n",
        "                           tf.keras.layers.Flatten(),\n",
        "                           tf.keras.layers.Dense(64,activation='relu'),\n",
        "                           tf.keras.layers.Dense(10)])"
      ],
      "metadata": {
        "id": "GnzvjmneF0Cf"
      },
      "execution_count": 11,
      "outputs": []
    },
    {
      "cell_type": "markdown",
      "source": [
        "The next step compiles the model that is configures the training process before it can be trained.\n",
        "> The Adam optimizer helps adjust the learning rate of each parameter based on past gradient.\n",
        "\n",
        "> The loss parameter specifies which loss function to be used during training to compare the predicted labels with the true ones. This helps in computing the gradients. The 'SparseCategoricalCrossentropy' loss function is suitable for multi-class classification problems where the output labels are integers.\n",
        "\n",
        "> The accuracy is the specified evaluation metric."
      ],
      "metadata": {
        "id": "7J63W3ZFvJfI"
      }
    },
    {
      "cell_type": "code",
      "source": [
        "model.compile(optimizer='adam',loss=tf.keras.losses.SparseCategoricalCrossentropy(from_logits=True),metrics=['accuracy'])"
      ],
      "metadata": {
        "id": "Crzspy4zHH0t"
      },
      "execution_count": 12,
      "outputs": []
    },
    {
      "cell_type": "markdown",
      "source": [
        "Now, we fit the training data to our trained model. With each epoch, the model refines its parameters with respect to the computed gradients."
      ],
      "metadata": {
        "id": "cDkINzl7xlTJ"
      }
    },
    {
      "cell_type": "code",
      "source": [
        "model.fit(x_train,y_train,epochs=5,validation_data=(x_test,y_test))"
      ],
      "metadata": {
        "colab": {
          "base_uri": "https://localhost:8080/"
        },
        "id": "DTLP3Gn8HrVr",
        "outputId": "f861b436-1e1d-40ce-bc11-0aa49808ab35"
      },
      "execution_count": 13,
      "outputs": [
        {
          "output_type": "stream",
          "name": "stdout",
          "text": [
            "Epoch 1/5\n",
            "1875/1875 [==============================] - 44s 22ms/step - loss: 0.1708 - accuracy: 0.9499 - val_loss: 0.0643 - val_accuracy: 0.9798\n",
            "Epoch 2/5\n",
            "1875/1875 [==============================] - 38s 20ms/step - loss: 0.0597 - accuracy: 0.9813 - val_loss: 0.0476 - val_accuracy: 0.9838\n",
            "Epoch 3/5\n",
            "1875/1875 [==============================] - 40s 21ms/step - loss: 0.0412 - accuracy: 0.9874 - val_loss: 0.0467 - val_accuracy: 0.9846\n",
            "Epoch 4/5\n",
            "1875/1875 [==============================] - 39s 21ms/step - loss: 0.0290 - accuracy: 0.9906 - val_loss: 0.0410 - val_accuracy: 0.9859\n",
            "Epoch 5/5\n",
            "1875/1875 [==============================] - 38s 20ms/step - loss: 0.0213 - accuracy: 0.9930 - val_loss: 0.0516 - val_accuracy: 0.9843\n"
          ]
        },
        {
          "output_type": "execute_result",
          "data": {
            "text/plain": [
              "<keras.callbacks.History at 0x7f4e481b9030>"
            ]
          },
          "metadata": {},
          "execution_count": 13
        }
      ]
    },
    {
      "cell_type": "markdown",
      "source": [
        "Next, we use the model to predict the output labels of the test set and also plot the first 9 images of the test set with their true and predicted labels using the function we defined earlier."
      ],
      "metadata": {
        "id": "aDm6rRxRx2nI"
      }
    },
    {
      "cell_type": "code",
      "source": [
        "y_pred=model.predict(x_test)\n",
        "images=x_test[0:9]\n",
        "cls_pred=np.argmax(y_pred,axis=1)\n",
        "true_labels=y_test[0:9]\n",
        "pred_labels=cls_pred[0:9]\n",
        "plot_images(images,true_labels,pred_labels)"
      ],
      "metadata": {
        "colab": {
          "base_uri": "https://localhost:8080/",
          "height": 443
        },
        "id": "A5mijPg8ImBF",
        "outputId": "64caa626-2475-4380-ca3e-aa15e8634ae3"
      },
      "execution_count": 17,
      "outputs": [
        {
          "output_type": "stream",
          "name": "stdout",
          "text": [
            "313/313 [==============================] - 2s 6ms/step\n"
          ]
        },
        {
          "output_type": "display_data",
          "data": {
            "text/plain": [
              "<Figure size 640x480 with 9 Axes>"
            ],
            "image/png": "[encoded data removed]"
          },
          "metadata": {}
        }
      ]
    },
    {
      "cell_type": "markdown",
      "source": [
        "We see the model has classified these instances correctly. Next, we find the indices of instances which were misclassified."
      ],
      "metadata": {
        "id": "ue6tCcg9yOdN"
      }
    },
    {
      "cell_type": "code",
      "source": [
        "indices=np.random.randint(0,len(x_test),size=9)\n",
        "misclassified_indices=np.where(cls_pred!=y_test)[0]\n",
        "misclassified_indices"
      ],
      "metadata": {
        "colab": {
          "base_uri": "https://localhost:8080/"
        },
        "id": "NZxI148qrx74",
        "outputId": "3e4483b0-2cea-4c84-b2d3-1dbf8edb8ffe"
      },
      "execution_count": 19,
      "outputs": [
        {
          "output_type": "execute_result",
          "data": {
            "text/plain": [
              "array([  92,  217,  259,  316,  321,  340,  445,  508,  619,  659,  674,\n",
              "        689,  720,  740,  870,  882,  947,  965, 1014, 1039, 1044, 1181,\n",
              "       1182, 1232, 1242, 1247, 1260, 1319, 1344, 1393, 1414, 1425, 1459,\n",
              "       1522, 1527, 1530, 1609, 1678, 1709, 1722, 1737, 1790, 1878, 1901,\n",
              "       1982, 2018, 2035, 2070, 2116, 2118, 2130, 2135, 2182, 2293, 2387,\n",
              "       2422, 2437, 2462, 2488, 2597, 2654, 2771, 2896, 2921, 2939, 2953,\n",
              "       2995, 3030, 3060, 3108, 3206, 3218, 3225, 3250, 3252, 3254, 3289,\n",
              "       3330, 3422, 3503, 3520, 3558, 3559, 3599, 3681, 3694, 3726, 3727,\n",
              "       3762, 3780, 3808, 3850, 3853, 3902, 3906, 4007, 4063, 4176, 4193,\n",
              "       4211, 4248, 4289, 4504, 4601, 4639, 4731, 4761, 4783, 4807, 4816,\n",
              "       4823, 4838, 4860, 4876, 4956, 5140, 5228, 5600, 5634, 5654, 5887,\n",
              "       5936, 5937, 5955, 5982, 6011, 6071, 6166, 6172, 6391, 6555, 6571,\n",
              "       6574, 6576, 6597, 6625, 6755, 6847, 7220, 7492, 7545, 8059, 8325,\n",
              "       8527, 9009, 9587, 9627, 9634, 9638, 9652, 9664, 9679, 9698, 9751,\n",
              "       9752, 9782, 9793])"
            ]
          },
          "metadata": {},
          "execution_count": 19
        }
      ]
    },
    {
      "cell_type": "markdown",
      "source": [
        "We plot some of the misclassified images."
      ],
      "metadata": {
        "id": "RKO642hcyc0u"
      }
    },
    {
      "cell_type": "code",
      "source": [
        "plot_images(x_test[misclassified_indices[0:9]],y_test[misclassified_indices[0:9]],cls_pred[misclassified_indices[0:9]])"
      ],
      "metadata": {
        "colab": {
          "base_uri": "https://localhost:8080/",
          "height": 426
        },
        "id": "GDoCuiLgtCWJ",
        "outputId": "f4fad0cc-1e74-46db-efa5-5201a87cfc7a"
      },
      "execution_count": 21,
      "outputs": [
        {
          "output_type": "display_data",
          "data": {
            "text/plain": [
              "<Figure size 640x480 with 9 Axes>"
            ],
            "image/png": "[encoded data removed]"
          },
          "metadata": {}
        }
      ]
    },
    {
      "cell_type": "markdown",
      "source": [
        "Now, we calculate the accuracy of the model."
      ],
      "metadata": {
        "id": "3XrgFhbnykyX"
      }
    },
    {
      "cell_type": "code",
      "source": [
        "model.evaluate(x_test,y_test)"
      ],
      "metadata": {
        "colab": {
          "base_uri": "https://localhost:8080/"
        },
        "id": "GZmTVwEIKTQ6",
        "outputId": "0c1a8dd0-5a3e-4908-b451-c68f6464c700"
      },
      "execution_count": 15,
      "outputs": [
        {
          "output_type": "stream",
          "name": "stdout",
          "text": [
            "313/313 [==============================] - 2s 7ms/step - loss: 0.0516 - accuracy: 0.9843\n"
          ]
        },
        {
          "output_type": "execute_result",
          "data": {
            "text/plain": [
              "[0.05163636431097984, 0.9843000173568726]"
            ]
          },
          "metadata": {},
          "execution_count": 15
        }
      ]
    },
    {
      "cell_type": "markdown",
      "source": [
        "We see our model has performed pretty well with around 98% accuracy."
      ],
      "metadata": {
        "id": "qMRATLFSyq-R"
      }
    },
    {
      "cell_type": "markdown",
      "source": [
        "This completes the project. Awaiting for everyone's feedback!"
      ],
      "metadata": {
        "id": "coQ89JBqy8E-"
      }
    },
    {
      "cell_type": "markdown",
      "source": [
        "# Thank You !\n",
        "\n",
        "> -Sanjana Bhakat\n",
        "\n",
        "\n",
        "\n"
      ],
      "metadata": {
        "id": "t0wLVSCQzSPs"
      }
    }
  ]
}